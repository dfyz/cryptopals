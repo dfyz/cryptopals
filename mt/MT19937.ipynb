{
 "cells": [
  {
   "cell_type": "code",
   "execution_count": 58,
   "id": "7be81e23",
   "metadata": {},
   "outputs": [],
   "source": [
    "def temper(x):\n",
    "    x ^^= x >> 11\n",
    "    x ^^= (x << 7) & 0x9D2C5680\n",
    "    x ^^= (x << 15) & 0xEFC60000\n",
    "    x ^^= x >> 18\n",
    "    return x"
   ]
  },
  {
   "cell_type": "code",
   "execution_count": 59,
   "id": "e1b8ea70",
   "metadata": {},
   "outputs": [],
   "source": [
    "def set_row(mm, num, row):\n",
    "    for ii in range(32):\n",
    "        mm[row, ii] = (num & (1 << ii)) != 0\n",
    "\n",
    "A = Matrix(GF(2), 32, 32)\n",
    "B = Matrix(GF(2), 32, 32)\n",
    "\n",
    "import random\n",
    "for row in range(32):\n",
    "    cand = random.randint(0, 2**32-1)\n",
    "    set_row(A, cand, row)\n",
    "    set_row(B, temper(cand), row)"
   ]
  },
  {
   "cell_type": "code",
   "execution_count": 60,
   "id": "9e9a01e6",
   "metadata": {},
   "outputs": [
    {
     "data": {
      "text/plain": [
       "32"
      ]
     },
     "execution_count": 60,
     "metadata": {},
     "output_type": "execute_result"
    }
   ],
   "source": [
    "A.rank()"
   ]
  },
  {
   "cell_type": "code",
   "execution_count": 61,
   "id": "6370bff3",
   "metadata": {},
   "outputs": [],
   "source": [
    "T = (A^-1) * B\n",
    "T_inv = T^-1"
   ]
  },
  {
   "cell_type": "code",
   "execution_count": 62,
   "id": "899c2e0a",
   "metadata": {},
   "outputs": [
    {
     "name": "stdout",
     "output_type": "stream",
     "text": [
      "[1 0 0 1 0 0 1 1 0 0 1 0 0 0 1 0 0 1 0 0 0 1 0 0 0 0 0 0 1 0 0 0]\n",
      "[0 1 0 0 0 0 0 0 0 0 0 0 0 0 0 0 0 0 0 0 0 0 0 0 0 0 0 0 0 0 0 0]\n",
      "[0 0 0 0 0 0 1 0 0 0 0 0 0 1 0 0 0 1 0 0 1 0 0 0 1 0 0 0 0 0 0 1]\n",
      "[0 0 0 1 0 0 0 1 0 0 1 0 0 0 0 0 0 0 1 0 0 0 0 0 0 0 0 0 0 0 0 0]\n",
      "[0 0 0 0 1 0 0 0 0 0 0 0 0 0 0 0 0 0 0 0 0 0 0 0 0 0 0 0 0 0 0 0]\n",
      "[0 1 0 0 1 1 0 0 1 0 0 0 1 0 0 1 0 0 0 1 0 0 0 0 0 0 1 0 0 0 0 0]\n",
      "[0 0 0 0 0 0 1 0 0 0 0 0 0 0 0 0 0 0 0 0 0 0 0 0 0 0 0 0 0 0 0 0]\n",
      "[1 0 0 1 0 0 1 1 0 0 1 1 0 0 1 0 0 1 0 0 0 1 1 0 0 0 0 0 1 0 0 0]\n",
      "[0 1 0 0 0 0 0 0 1 0 0 0 1 0 0 0 0 0 0 0 0 0 0 1 0 0 0 0 0 0 0 0]\n",
      "[0 0 1 0 0 0 0 0 0 0 0 0 0 1 0 0 0 0 0 0 1 0 0 0 1 0 0 0 0 0 0 1]\n",
      "[0 0 0 1 0 0 0 0 0 0 1 0 0 0 1 0 0 0 0 0 0 0 0 0 0 1 0 0 0 0 0 0]\n",
      "[1 0 0 0 1 0 0 1 0 0 0 1 0 0 0 1 0 0 1 0 0 0 0 0 0 0 1 0 0 0 0 0]\n",
      "[0 1 0 0 1 1 0 0 1 0 0 0 1 0 0 1 1 0 0 1 0 0 0 0 0 0 1 1 0 0 0 0]\n",
      "[0 0 1 0 0 0 0 0 0 0 0 0 0 1 0 0 0 0 0 0 0 0 0 0 0 0 0 0 0 0 0 0]\n",
      "[0 0 0 1 0 0 1 1 0 0 1 0 0 0 1 0 0 1 1 0 0 1 0 0 0 0 0 0 1 1 0 0]\n",
      "[0 0 0 0 1 0 0 0 1 0 0 0 0 0 0 1 0 0 0 1 0 0 0 0 0 0 0 0 0 0 1 0]\n",
      "[0 0 0 0 0 1 0 0 0 1 0 0 0 0 0 0 1 0 0 0 1 0 0 0 0 0 0 0 0 0 0 1]\n",
      "[0 0 1 0 0 0 1 0 0 1 0 0 0 1 0 0 0 1 0 0 1 0 0 0 1 0 0 0 0 0 0 1]\n",
      "[1 0 0 1 0 0 1 0 0 0 1 0 0 0 1 0 0 1 1 0 0 1 0 0 0 0 0 0 1 0 0 0]\n",
      "[0 1 0 0 1 0 0 0 1 0 0 0 0 0 0 1 0 0 0 1 0 0 0 0 0 0 1 0 0 0 0 0]\n",
      "[0 0 0 0 0 1 1 0 0 1 0 0 0 1 0 0 1 1 0 0 0 0 0 0 1 0 0 1 0 0 0 1]\n",
      "[0 0 0 1 0 0 1 1 0 0 0 0 0 0 0 0 0 1 1 0 0 1 0 0 0 0 0 0 1 0 0 0]\n",
      "[1 0 0 0 1 0 0 0 0 0 0 1 0 0 0 0 0 0 0 0 0 0 1 0 0 0 0 0 0 0 0 0]\n",
      "[0 0 0 0 1 1 0 0 1 0 0 0 0 0 0 1 0 0 0 1 0 0 0 1 0 0 1 0 0 0 0 0]\n",
      "[0 0 1 0 0 0 1 0 0 1 0 0 0 1 0 0 0 0 0 0 1 0 0 0 1 0 0 0 0 0 0 1]\n",
      "[1 0 0 0 0 0 1 1 0 0 1 1 0 0 0 0 0 1 0 0 0 1 1 0 0 1 0 0 1 0 0 0]\n",
      "[0 1 0 0 1 0 0 0 1 0 0 0 1 0 0 1 0 0 0 0 0 0 0 1 0 0 1 0 0 0 0 0]\n",
      "[0 0 1 0 0 1 0 0 0 0 0 0 0 1 0 0 1 0 0 0 1 0 0 0 1 0 0 1 0 0 0 1]\n",
      "[0 0 0 1 0 0 1 0 0 0 1 0 0 0 1 0 0 1 0 0 0 0 0 0 0 1 0 0 1 0 0 0]\n",
      "[1 0 0 0 1 0 0 0 0 0 0 1 0 0 0 1 0 0 0 0 0 0 0 0 0 0 1 0 0 1 0 0]\n",
      "[0 1 0 0 1 1 0 0 0 0 0 0 1 0 0 1 1 0 0 0 0 0 0 0 0 0 1 1 0 0 1 0]\n",
      "[0 0 1 0 0 0 0 0 0 1 0 0 0 1 0 0 0 0 0 0 1 0 0 0 0 0 0 0 0 0 0 1]\n"
     ]
    }
   ],
   "source": [
    "print(T_inv.str())"
   ]
  },
  {
   "cell_type": "code",
   "execution_count": 63,
   "id": "2d0bcb0a",
   "metadata": {},
   "outputs": [],
   "source": [
    "def col_to_num(mm, col):\n",
    "    res = 0\n",
    "    for ii in range(32):\n",
    "        if mm[ii, col]:\n",
    "            res |= 1 << ii\n",
    "    return res"
   ]
  },
  {
   "cell_type": "code",
   "execution_count": 67,
   "id": "c187bf65",
   "metadata": {},
   "outputs": [
    {
     "name": "stdout",
     "output_type": "stream",
     "text": [
      "0x22440881,\n",
      "0x44081122,\n",
      "0x89022200,\n",
      "0x10244489,\n",
      "0x64c89830,\n",
      "0x48911020,\n",
      "0x133640c5,\n",
      "0x2204889,\n",
      "0x4889120,\n",
      "0x81130000,\n",
      "0x12044489,\n",
      "0x22400880,\n",
      "0x44001120,\n",
      "0x89122204,\n",
      "0x10044481,\n",
      "0x64889820,\n",
      "0x48111000,\n",
      "0x12364085,\n",
      "0x244808,\n",
      "0x889020,\n",
      "0x89030204,\n",
      "0x2244081,\n",
      "0x2400080,\n",
      "0x4800100,\n",
      "0x9120204,\n",
      "0x12000400,\n",
      "0x64881820,\n",
      "0x48101000,\n",
      "0x12244081,\n",
      "0x20004000,\n",
      "0x40008000,\n",
      "0x89130204,\n"
     ]
    }
   ],
   "source": [
    "for col in range(32):\n",
    "    print(hex(col_to_num(T_inv, col)) + ',')"
   ]
  }
 ],
 "metadata": {
  "kernelspec": {
   "display_name": "SageMath 10.0",
   "language": "sage",
   "name": "sagemath-10.0"
  },
  "language_info": {
   "codemirror_mode": {
    "name": "ipython",
    "version": 3
   },
   "file_extension": ".py",
   "mimetype": "text/x-python",
   "name": "python",
   "nbconvert_exporter": "python",
   "pygments_lexer": "ipython3",
   "version": "3.11.1"
  }
 },
 "nbformat": 4,
 "nbformat_minor": 5
}
